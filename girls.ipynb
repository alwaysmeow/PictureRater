{
 "cells": [
  {
   "cell_type": "code",
   "execution_count": 76,
   "metadata": {},
   "outputs": [],
   "source": [
    "import numpy as np\n",
    "import tensorflow as tf\n",
    "import matplotlib.pyplot as plt\n",
    "import os\n",
    "from PIL import Image\n",
    "import pandas as pd"
   ]
  },
  {
   "cell_type": "code",
   "execution_count": 77,
   "metadata": {},
   "outputs": [],
   "source": [
    "picsdir = 'static'\n",
    "df = pd.read_csv(\"markup.csv\")\n",
    "datalen = len(df)"
   ]
  },
  {
   "cell_type": "code",
   "execution_count": 78,
   "metadata": {},
   "outputs": [],
   "source": [
    "validation_size = 0.25\n",
    "autotune = tf.data.experimental.AUTOTUNE\n",
    "img_size = 299\n",
    "batch_size = 8\n",
    "dropout = 0.2\n",
    "lr = 1e-3\n",
    "decay_steps = 100\n",
    "decay_rate = 0.96\n",
    "epochs = 35"
   ]
  },
  {
   "cell_type": "code",
   "execution_count": 79,
   "metadata": {},
   "outputs": [],
   "source": [
    "def get_image(filename):\n",
    "    image = tf.image.decode_jpeg(tf.io.read_file(f\"{picsdir}/{filename}\"), channels=3)\n",
    "    image = tf.cast(tf.image.resize_with_pad(image, img_size, img_size), dtype = tf.float32)\n",
    "    return tf.keras.applications.inception_v3.preprocess_input(image)"
   ]
  },
  {
   "cell_type": "code",
   "execution_count": 80,
   "metadata": {},
   "outputs": [],
   "source": [
    "x = [get_image(filename) for filename in df[\"Filename\"].values]"
   ]
  },
  {
   "cell_type": "code",
   "execution_count": 81,
   "metadata": {},
   "outputs": [],
   "source": [
    "y = [[int(index == mark) for index in range(10)] for mark in df[\"Mark\"].values]"
   ]
  },
  {
   "cell_type": "code",
   "execution_count": 82,
   "metadata": {},
   "outputs": [],
   "source": [
    "dataset = tf.data.Dataset.from_tensor_slices((x, y)).batch(batch_size).prefetch(buffer_size=autotune)"
   ]
  },
  {
   "cell_type": "code",
   "execution_count": 83,
   "metadata": {},
   "outputs": [],
   "source": [
    "train_part = 0.75\n",
    "split_index = int(datalen * train_part // batch_size)\n",
    "trainset = dataset.take(split_index)\n",
    "validset = dataset.skip(split_index)"
   ]
  },
  {
   "cell_type": "code",
   "execution_count": 84,
   "metadata": {},
   "outputs": [
    {
     "name": "stdout",
     "output_type": "stream",
     "text": [
      "WARNING:tensorflow:No training configuration found in the save file, so the model was *not* compiled. Compile it manually.\n"
     ]
    },
    {
     "name": "stderr",
     "output_type": "stream",
     "text": [
      "WARNING:tensorflow:No training configuration found in the save file, so the model was *not* compiled. Compile it manually.\n"
     ]
    }
   ],
   "source": [
    "model = tf.keras.models.load_model('models/InceptionV3.h5')\n",
    "for layer in model.layers[300:]:\n",
    "    layer.trainable = True"
   ]
  },
  {
   "cell_type": "code",
   "execution_count": 85,
   "metadata": {},
   "outputs": [],
   "source": [
    "model= tf.keras.models.Sequential(\n",
    "    [\n",
    "        tf.keras.layers.Input(shape=(img_size, img_size, 3)),\n",
    "        tf.keras.layers.experimental.preprocessing.RandomFlip(mode=\"horizontal_and_vertical\"),\n",
    "        model,\n",
    "        tf.keras.layers.BatchNormalization(),\n",
    "        tf.keras.layers.Dropout(dropout, name='top_dropout'),\n",
    "        tf.keras.layers.Dense(32, activation='elu'),\n",
    "        tf.keras.layers.Dense(10,'softmax')\n",
    "    ]\n",
    ")"
   ]
  },
  {
   "cell_type": "code",
   "execution_count": 86,
   "metadata": {},
   "outputs": [],
   "source": [
    "lr_schedule = tf.keras.optimizers.schedules.ExponentialDecay(\n",
    "    initial_learning_rate=lr,\n",
    "    decay_steps=decay_steps, decay_rate=decay_rate,staircase=True)\n",
    "\n",
    "early_stop = tf.keras.callbacks.EarlyStopping(\n",
    "    monitor='accuracy', patience=5, restore_best_weights=True)\n",
    "\n",
    "class Callbackss(tf.keras.callbacks.Callback):\n",
    "    def on_epoch_end(self,epoch,logs = {}):\n",
    "        if logs.get('loss') < 0.063:\n",
    "            self.model.stop_training = True\n",
    "            \n",
    "call = Callbackss()"
   ]
  },
  {
   "cell_type": "code",
   "execution_count": 87,
   "metadata": {},
   "outputs": [
    {
     "name": "stderr",
     "output_type": "stream",
     "text": [
      "WARNING:absl:At this time, the v2.11+ optimizer `tf.keras.optimizers.Adam` runs slowly on M1/M2 Macs, please use the legacy Keras optimizer instead, located at `tf.keras.optimizers.legacy.Adam`.\n"
     ]
    }
   ],
   "source": [
    "model.compile(optimizer=tf.keras.optimizers.Adam(learning_rate=lr_schedule),\n",
    "                    loss='binary_crossentropy',\n",
    "                    metrics=['accuracy'])"
   ]
  },
  {
   "cell_type": "code",
   "execution_count": 88,
   "metadata": {},
   "outputs": [
    {
     "name": "stdout",
     "output_type": "stream",
     "text": [
      "Epoch 1/35\n",
      "67/67 [==============================] - 219s 3s/step - loss: 0.4835 - accuracy: 0.1884 - val_loss: 11.5499 - val_accuracy: 0.1383\n",
      "Epoch 2/35\n",
      "67/67 [==============================] - 212s 3s/step - loss: 0.3664 - accuracy: 0.1716 - val_loss: 2.6401 - val_accuracy: 0.2021\n",
      "Epoch 3/35\n",
      "67/67 [==============================] - 174s 3s/step - loss: 0.3568 - accuracy: 0.2183 - val_loss: 0.3144 - val_accuracy: 0.2340\n",
      "Epoch 4/35\n",
      "67/67 [==============================] - 85s 1s/step - loss: 0.3395 - accuracy: 0.2090 - val_loss: 985350.7500 - val_accuracy: 0.0160\n",
      "Epoch 5/35\n",
      "67/67 [==============================] - 85s 1s/step - loss: 0.3387 - accuracy: 0.2239 - val_loss: 5.1562 - val_accuracy: 0.1968\n",
      "Epoch 6/35\n",
      "67/67 [==============================] - 88s 1s/step - loss: 0.3380 - accuracy: 0.1996 - val_loss: 56.7846 - val_accuracy: 0.0904\n",
      "Epoch 7/35\n",
      "67/67 [==============================] - 101s 2s/step - loss: 0.3272 - accuracy: 0.2090 - val_loss: 803.4706 - val_accuracy: 0.1702\n",
      "Epoch 8/35\n",
      "67/67 [==============================] - 99s 1s/step - loss: 0.3321 - accuracy: 0.1903 - val_loss: 78.9930 - val_accuracy: 0.1702\n",
      "Epoch 9/35\n",
      "67/67 [==============================] - 104s 2s/step - loss: 0.3147 - accuracy: 0.2164 - val_loss: 89.0300 - val_accuracy: 0.0798\n",
      "Epoch 10/35\n",
      "67/67 [==============================] - 109s 2s/step - loss: 0.3176 - accuracy: 0.2313 - val_loss: 13.1170 - val_accuracy: 0.1809\n",
      "Epoch 11/35\n",
      "67/67 [==============================] - 115s 2s/step - loss: 0.3190 - accuracy: 0.2369 - val_loss: 7.9849 - val_accuracy: 0.2234\n",
      "Epoch 12/35\n",
      "67/67 [==============================] - 119s 2s/step - loss: 0.3102 - accuracy: 0.2463 - val_loss: 0.3454 - val_accuracy: 0.2660\n",
      "Epoch 13/35\n",
      "67/67 [==============================] - 119s 2s/step - loss: 0.3182 - accuracy: 0.1996 - val_loss: 0.4653 - val_accuracy: 0.2074\n",
      "Epoch 14/35\n",
      "67/67 [==============================] - 116s 2s/step - loss: 0.3170 - accuracy: 0.2146 - val_loss: 142.4485 - val_accuracy: 0.2713\n",
      "Epoch 15/35\n",
      "67/67 [==============================] - 121s 2s/step - loss: 0.3115 - accuracy: 0.2146 - val_loss: 94.3373 - val_accuracy: 0.2553\n",
      "Epoch 16/35\n",
      "67/67 [==============================] - 114s 2s/step - loss: 0.3083 - accuracy: 0.2183 - val_loss: 10.6672 - val_accuracy: 0.2606\n",
      "Epoch 17/35\n",
      "67/67 [==============================] - 111s 2s/step - loss: 0.3032 - accuracy: 0.2295 - val_loss: 3.3129 - val_accuracy: 0.1702\n"
     ]
    }
   ],
   "source": [
    "history=model.fit(trainset,validation_data=validset, epochs=epochs, verbose=1, callbacks=[early_stop, call], use_multiprocessing=True, workers=-1)"
   ]
  }
 ],
 "metadata": {
  "kernelspec": {
   "display_name": "Python 3",
   "language": "python",
   "name": "python3"
  },
  "language_info": {
   "codemirror_mode": {
    "name": "ipython",
    "version": 3
   },
   "file_extension": ".py",
   "mimetype": "text/x-python",
   "name": "python",
   "nbconvert_exporter": "python",
   "pygments_lexer": "ipython3",
   "version": "3.11.4"
  }
 },
 "nbformat": 4,
 "nbformat_minor": 2
}
